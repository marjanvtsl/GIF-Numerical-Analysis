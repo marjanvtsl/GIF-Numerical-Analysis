{
 "cells": [
  {
   "cell_type": "code",
   "execution_count": 148,
   "metadata": {
    "scrolled": false
   },
   "outputs": [
    {
     "name": "stdout",
     "output_type": "stream",
     "text": [
      " 39.323365 seconds (85.77 M allocations: 3.515 GiB, 1.00% gc time)\n"
     ]
    },
    {
     "data": {
      "text/plain": [
       "21442340"
      ]
     },
     "execution_count": 148,
     "metadata": {},
     "output_type": "execute_result"
    }
   ],
   "source": [
    "@time begin\n",
    "    \n",
    "    v1 =μ1(0.001, 0.001, 0.580, 1) \n",
    "\n",
    "end            "
   ]
  },
  {
   "cell_type": "code",
   "execution_count": 143,
   "metadata": {},
   "outputs": [
    {
     "data": {
      "text/plain": [
       "Speed_Test (generic function with 1 method)"
      ]
     },
     "execution_count": 143,
     "metadata": {},
     "output_type": "execute_result"
    }
   ],
   "source": [
    "function Speed_Test(μ, αd, Ct, λmd, λwj, λe, λh) # αd in degrees #####################  \n",
    "EPSD=5*10^-4\n",
    "αdr=αd*pi/180 # αd transform in radians  \n",
    "\n",
    "λoD=λmd\n",
    "        \n",
    "Bo=-(Ct^2)\n",
    "B1=0\n",
    "B2=(4*μ^2*(1+(tan(αdr))^2))\n",
    "B3=(8*μ*tan(αdr))\n",
    "B4=(4)\n",
    "   \n",
    "D4=E5_1P5R(Bo, B1, B2, B3, B4, λoD, EPSD)\n",
    "\n",
    "end"
   ]
  },
  {
   "cell_type": "code",
   "execution_count": 144,
   "metadata": {},
   "outputs": [
    {
     "data": {
      "text/plain": [
       "μ1 (generic function with 1 method)"
      ]
     },
     "execution_count": 144,
     "metadata": {},
     "output_type": "execute_result"
    }
   ],
   "source": [
    "function μ1(μmin, dμ, μmax, a)           \n",
    "counter=0    \n",
    "for μ=μmin:dμ:μmax\n",
    "if μ<0.2\n",
    "   TCmax=0.035\n",
    "   TCmin=0.0015\n",
    "elseif μ<0.4\n",
    "   TCmax=-0.0625*μ+0.0475\n",
    "   TCmin=0.0015\n",
    "else\n",
    "   TCmax=-0.0625*μ+0.0475\n",
    "   TCmin=0.0125*μ-0.0035\n",
    "end\n",
    "        \n",
    "if μ<0.15\n",
    "   αdmax=86.667*μ+5\n",
    "   αdmin=0\n",
    "elseif μ<0.4\n",
    "   αdmax=18\n",
    "   αdmin=0\n",
    "elseif μ<0.5\n",
    "   αdmax=-30*μ+30\n",
    "   αdmin=55.5555555*μ-22.22222222\n",
    "else  \n",
    "   αdmax=10\n",
    "   αdmin=55.5555555*μ-22.22222222     \n",
    "end      \n",
    "for Ct=round(TCmin, digits=4):0.0001:round(TCmax, digits=4)\n",
    "for αd=round(αdmin, digits=1):0.1:round(αdmax, digits=1)\n",
    "                \n",
    "counter=counter+1        \n",
    "μz=(μ*tan(αd*pi/180))#\n",
    "λh=(sqrt(Ct/2))#\n",
    "λwj=λh^2/sqrt((λh+μz)^2+μ^2)#\n",
    "λe=(sqrt((sqrt(μ^4+4*λh^4)-μ^2)/2))#\n",
    "λmd=(λh^2/sqrt((λe+μz)^2+μ^2))#\n",
    "##################################################################################################################################              \n",
    "R=Speed_Test(μ, αd, Ct, λmd, λwj, λe, λh)############################################################################################################\n",
    "##################################################################################################################################                \n",
    "         \n",
    "end\n",
    "end\n",
    "end\n",
    "return(counter)\n",
    "end"
   ]
  },
  {
   "cell_type": "code",
   "execution_count": 145,
   "metadata": {},
   "outputs": [
    {
     "ename": "LoadError",
     "evalue": "UndefVarError: Bo not defined",
     "output_type": "error",
     "traceback": [
      "UndefVarError: Bo not defined",
      "",
      "Stacktrace:",
      " [1] top-level scope at In[145]:2",
      " [2] include_string(::Function, ::Module, ::String, ::String) at .\\loading.jl:1091"
     ]
    }
   ],
   "source": [
    "\n",
    "D1=Halley_1P3R(Bo, B1, B2, B3, B4, λoD, EPSD)  \n",
    "D2=Chebyshev_1P3R(Bo, B1, B2, B3, B4, λoD, EPSD)\n",
    "D3=Kiss_1P4R(Bo, B1, B2, B3, B4, λoD, EPSD)       \n",
    "D4=E5_1P5R(Bo, B1, B2, B3, B4, λoD, EPSD)\n"
   ]
  },
  {
   "cell_type": "code",
   "execution_count": 146,
   "metadata": {},
   "outputs": [
    {
     "data": {
      "text/plain": [
       "Newton_EPS (generic function with 1 method)"
      ]
     },
     "execution_count": 146,
     "metadata": {},
     "output_type": "execute_result"
    }
   ],
   "source": [
    "function Newton_EPS(Bo, B1, B2, B3, B4, λo, EPSD)\n",
    "    \n",
    "         EPS=EPSD\n",
    "    \n",
    "         nan=0\n",
    "         nan1=0\n",
    "         inf=0\n",
    "         inf1=0\n",
    "         zero=0\n",
    "         zero1=0\n",
    "         LoPo=0\n",
    "         ITNumb=0\n",
    "         Jack=0\n",
    "         \n",
    "    ####################################################\n",
    "    #                                                ###\n",
    "    # THE METHOD FIRST PART                          ###     \n",
    "         \n",
    "         λo=λo                                       \n",
    "         f=Bo+B1*λo+B2*λo^2+B3*λo^3+B4*λo^4          \n",
    "         fprime=B1+2*B2*λo+3*B3*λo^2+4*B4*λo^3       \n",
    "         u=f/fprime                                  \n",
    "         w=λo-u                                      \n",
    "    #                                                ###\n",
    "    ####################################################\n",
    "         λ=w                              ##############\n",
    "         eps=abs((λ-λo)/λ)                ##############\n",
    "         Eps=eps                          ##############\n",
    "         ITNumb=ITNumb+1 \n",
    "  #                                 ####################\n",
    " \n",
    "  ######################################################\n",
    "  #                       ##############################\n",
    "  # THE LOOP OPENER       ##############################   \n",
    "  #                       ##############################\n",
    "        while eps>EPS     ##############################      \n",
    "        if ITNumb>1000    ##############################\n",
    "           eps=0          ##############################\n",
    "           Jack=Jack+1    ############################## \n",
    "       else               ##############################\n",
    "  ######################################################\n",
    "  ### IT Number Counter - Removed\n",
    "  ######################################################\n",
    "  # #                                                ###\n",
    "  # # THE METHOD FINAL PART                          ###     \n",
    "  # #                                                ###                                       \n",
    "         λo=λ\n",
    "         f=Bo+B1*λo+B2*λo^2+B3*λo^3+B4*λo^4          \n",
    "         fprime=B1+2*B2*λo+3*B3*λo^2+4*B4*λo^3       \n",
    "         u=f/fprime                                  \n",
    "         w=λo-u                                      \n",
    "  # #    \n",
    "         λ=w                              ##############\n",
    "         eps=abs((λ-λo)/λ)                ##############\n",
    "         Eps=eps                          ##############\n",
    "         ITNumb=ITNumb+1                                             ###\n",
    "  ######################################################\n",
    "  # #                               ####################\n",
    "        end\n",
    "    end\n",
    " λD=λ   \n",
    " ITNumbD=ITNumb\n",
    " res=[λD,ITNumbD]\n",
    " return(res)\n",
    " end"
   ]
  },
  {
   "cell_type": "code",
   "execution_count": 147,
   "metadata": {},
   "outputs": [
    {
     "data": {
      "text/plain": [
       "Halley_1P3R (generic function with 1 method)"
      ]
     },
     "execution_count": 147,
     "metadata": {},
     "output_type": "execute_result"
    }
   ],
   "source": [
    "function Halley_1P3R(Bo, B1, B2, B3, B4, λo, EPSD)# αd in degrees #####################  \n",
    "\n",
    "EPS=EPSD   \n",
    "ITNumb=0\n",
    "Jack=0\n",
    "    \n",
    "    ####################################################\n",
    "    #                                                ###\n",
    "    # THE METHOD FIRST PART                          ###     \n",
    "         \n",
    "         λo=λo                                       \n",
    "         f=Bo+B1*λo+B2*λo^2+B3*λo^3+B4*λo^4          \n",
    "         fprime=B1+2*B2*λo+3*B3*λo^2+4*B4*λo^3\n",
    "         ftwo=2*B2+6*B3*λo+12*B4*λo^2\n",
    "         u=f/(fprime-f*ftwo/(2*fprime))                                  \n",
    "         w=λo-u  \n",
    "         λ=w                              ##############\n",
    "         eps=abs((λ-λo)/λ)                ##############\n",
    "         Eps=eps                          ##############\n",
    "         ITNumb=ITNumb+1 \n",
    "    #                                                ###\n",
    "    ####################################################\n",
    "    \n",
    "  # THE LOOP OPENER       ##############################   \n",
    "  #                       ##############################\n",
    "        while eps>EPS     ##############################      \n",
    "        if ITNumb>1000    ##############################\n",
    "           eps=0          ##############################\n",
    "           Jack=Jack+1    ############################## \n",
    "       else               ##############################\n",
    "  ######################################################\n",
    " \n",
    "  ######################################################\n",
    "  # #                                                ###\n",
    "  # # THE METHOD FINAL PART                          ###     \n",
    "  # #                                                ###   \n",
    "         λo=λ                                       \n",
    "         f=Bo+B1*λo+B2*λo^2+B3*λo^3+B4*λo^4          \n",
    "         fprime=B1+2*B2*λo+3*B3*λo^2+4*B4*λo^3\n",
    "         ftwo=2*B2+6*B3*λo+12*B4*λo^2\n",
    "         u=f/(fprime-f*ftwo/(2*fprime))                                  \n",
    "         w=λo-u \n",
    "         λ=w                              ##############\n",
    "         eps=abs((λ-λo)/λ)                ##############\n",
    "         Eps=eps                          ##############\n",
    "         ITNumb=ITNumb+1 \n",
    "  # #                                                ###\n",
    "  ######################################################\n",
    " \n",
    "            end                           ##############\n",
    "        end                               ##############\n",
    "  # #                                     ##############\n",
    "  ######################################################\n",
    "  \n",
    " λD=λ   \n",
    " ITNumbD=ITNumb\n",
    " res=[λD, ITNumbD]\n",
    " return(res)\n",
    " end"
   ]
  },
  {
   "cell_type": "code",
   "execution_count": 115,
   "metadata": {},
   "outputs": [
    {
     "data": {
      "text/plain": [
       "Euler_Cauchy_1P3R (generic function with 1 method)"
      ]
     },
     "execution_count": 115,
     "metadata": {},
     "output_type": "execute_result"
    }
   ],
   "source": [
    "function Euler_Cauchy_1P3R(Bo, B1, B2, B3, B4, λo, EPSD)# αd in degrees #####################  \n",
    "\n",
    "EPS=EPSD  \n",
    "ITNumb=0\n",
    "Jack=0\n",
    "   \n",
    "    ####################################################\n",
    "    #                                                ###\n",
    "    # THE METHOD FIRST PART                          ###     \n",
    "         \n",
    "         λo=λo                                       \n",
    "         f=Bo+B1*λo+B2*λo^2+B3*λo^3+B4*λo^4          \n",
    "         fprime=B1+2*B2*λo+3*B3*λo^2+4*B4*λo^3\n",
    "         ftwo=2*B2+6*B3*λo+12*B4*λo^2\n",
    "         u=2*f/(fprime+sqrt(fprime^2-2*f*ftwo))                                  \n",
    "         w=λo-u   \n",
    "         λ=w                              ##############\n",
    "         eps=abs((λ-λo)/λ)                ##############\n",
    "         Eps=eps                          ##############\n",
    "         ITNumb=ITNumb+1 \n",
    "    #                                                ###\n",
    "   \n",
    "  #                       ##############################\n",
    "  # THE LOOP OPENER       ##############################   \n",
    "  #                       ##############################\n",
    "        while eps>EPS     ##############################      \n",
    "        if ITNumb>1000    ##############################\n",
    "           eps=0          ##############################\n",
    "           Jack=Jack+1    ############################## \n",
    "       else               ##############################\n",
    "  ######################################################\n",
    "\n",
    "  #                       ##############################\n",
    "  ######################################################\n",
    "  # #                                                ###\n",
    "  # # THE METHOD FINAL PART                          ###     \n",
    "  # #                                                ###   \n",
    "         λo=λ                                       \n",
    "         f=Bo+B1*λo+B2*λo^2+B3*λo^3+B4*λo^4          \n",
    "         fprime=B1+2*B2*λo+3*B3*λo^2+4*B4*λo^3\n",
    "         ftwo=2*B2+6*B3*λo+12*B4*λo^2\n",
    "         u=2*f/(fprime+sqrt(fprime^2-2*f*ftwo))                                  \n",
    "         w=λo-u \n",
    "            \n",
    "         λ=w                              ##############\n",
    "         eps=abs((λ-λo)/λ)                ##############\n",
    "         Eps=eps                          ##############\n",
    "         ITNumb=ITNumb+1 \n",
    "  # #                                                ###\n",
    "  ######################################################\n",
    " \n",
    "            end                           ##############\n",
    "        end                               ##############\n",
    "  # #                                     ##############\n",
    "  ######################################################\n",
    "  # #                               ####################\n",
    " \n",
    " λD=λ   \n",
    " ITNumbD=ITNumb\n",
    " res=[λD, ITNumbD]\n",
    " return(res)\n",
    " end"
   ]
  },
  {
   "cell_type": "code",
   "execution_count": 116,
   "metadata": {},
   "outputs": [
    {
     "data": {
      "text/plain": [
       "Chebyshev_1P3R (generic function with 1 method)"
      ]
     },
     "execution_count": 116,
     "metadata": {},
     "output_type": "execute_result"
    }
   ],
   "source": [
    "function Chebyshev_1P3R(Bo, B1, B2, B3, B4, λo, EPSD)# αd in degrees #####################  \n",
    "\n",
    "EPS=EPSD   \n",
    "\n",
    "ITNumb=0\n",
    "Jack=0\n",
    "\n",
    "    \n",
    "    ####################################################\n",
    "    #                                                ###\n",
    "    # THE METHOD FIRST PART                          ###     \n",
    "         \n",
    "         λo=λo                                       \n",
    "         f=Bo+B1*λo+B2*λo^2+B3*λo^3+B4*λo^4          \n",
    "         fprime=B1+2*B2*λo+3*B3*λo^2+4*B4*λo^3\n",
    "         ftwo=2*B2+6*B3*λo+12*B4*λo^2\n",
    "         u=(f/fprime)*(1+f*ftwo/(2*fprime^2))                                 \n",
    "         w=λo-u   \n",
    "    \n",
    "         λ=w                              ##############\n",
    "         eps=abs((λ-λo)/λ)                ##############\n",
    "         Eps=eps                          ##############\n",
    "         ITNumb=ITNumb+1 \n",
    "    #                                                ###\n",
    "    ####################################################\n",
    "    \n",
    "  ######################################################\n",
    "  #                       ##############################\n",
    "  # THE LOOP OPENER       ##############################   \n",
    "  #                       ##############################\n",
    "        while eps>EPS     ##############################      \n",
    "        if ITNumb>1000    ##############################\n",
    "           eps=0          ##############################\n",
    "           Jack=Jack+1    ############################## \n",
    "       else               ##############################\n",
    "  ######################################################\n",
    "\n",
    "  ######################################################\n",
    "  # #                                                ###\n",
    "  # # THE METHOD FINAL PART                          ###     \n",
    "  # #                                                ###   \n",
    "         λo=λ                                       \n",
    "         f=Bo+B1*λo+B2*λo^2+B3*λo^3+B4*λo^4          \n",
    "         fprime=B1+2*B2*λo+3*B3*λo^2+4*B4*λo^3\n",
    "         ftwo=2*B2+6*B3*λo+12*B4*λo^2\n",
    "         u=(f/fprime)*(1+f*ftwo/(2*fprime^2))                                  \n",
    "         w=λo-u  \n",
    "            \n",
    "            \n",
    "            \n",
    "         λ=w                              ##############\n",
    "         eps=abs((λ-λo)/λ)                ##############\n",
    "         Eps=eps                          ##############\n",
    "         ITNumb=ITNumb+1 \n",
    "  # #                                                ###\n",
    "  ######################################################\n",
    "  # #                               ####################\n",
    " \n",
    "            end                           ##############\n",
    "        end                               ##############\n",
    "  # #                                     ##############\n",
    "  ######################################################\n",
    "  \n",
    " λD=λ   \n",
    " ITNumbD=ITNumb\n",
    " res=[λD, ITNumbD]\n",
    " return(res)\n",
    " end"
   ]
  },
  {
   "cell_type": "code",
   "execution_count": 117,
   "metadata": {},
   "outputs": [
    {
     "data": {
      "text/plain": [
       "Kiss_1P4R (generic function with 1 method)"
      ]
     },
     "execution_count": 117,
     "metadata": {},
     "output_type": "execute_result"
    }
   ],
   "source": [
    "function Kiss_1P4R(Bo, B1, B2, B3, B4, λo, EPSD)# αd in degrees #####################  \n",
    "\n",
    "EPS=EPSD   \n",
    "ITNumb=0\n",
    "Jack=0\n",
    "\n",
    "    \n",
    "    ####################################################\n",
    "    #                                                ###\n",
    "    # THE METHOD FIRST PART                          ###     \n",
    "         \n",
    "         λo=λo                                       \n",
    "         f=Bo+B1*λo+B2*λo^2+B3*λo^3+B4*λo^4          \n",
    "         fprime=B1+2*B2*λo+3*B3*λo^2+4*B4*λo^3\n",
    "         ftwo=2*B2+6*B3*λo+12*B4*λo^2\n",
    "         fthree=6*B3+24*B4*λo\n",
    "         u=f/fprime\n",
    "         C2=0.5*ftwo/fprime\n",
    "         C3=(1/6)*fthree/fprime\n",
    "         w=λo-u*(1-C2*u)/(1-2*C2*u+C3*u^2)\n",
    "    \n",
    "         λ=w                              ##############\n",
    "         eps=abs((λ-λo)/λ)                ##############\n",
    "         Eps=eps                          ##############\n",
    "         ITNumb=ITNumb+1 \n",
    "    #                                                ###\n",
    "    ####################################################\n",
    "   \n",
    "  # THE LOOP OPENER       ##############################   \n",
    "  #                       ##############################\n",
    "        while eps>EPS     ##############################      \n",
    "        if ITNumb>1000    ##############################\n",
    "           eps=0          ##############################\n",
    "           Jack=Jack+1    ############################## \n",
    "       else               ##############################\n",
    "  ######################################################\n",
    " \n",
    "  ######################################################\n",
    "  # #                                                ###\n",
    "  # # THE METHOD FINAL PART                          ###     \n",
    "  # #                                                ###   \n",
    "         λo=λ                                       \n",
    "         f=Bo+B1*λo+B2*λo^2+B3*λo^3+B4*λo^4          \n",
    "         fprime=B1+2*B2*λo+3*B3*λo^2+4*B4*λo^3\n",
    "         ftwo=2*B2+6*B3*λo+12*B4*λo^2\n",
    "         fthree=6*B3+24*B4*λo\n",
    "         u=f/fprime\n",
    "         C2=0.5*ftwo/fprime\n",
    "         C3=(1/6)*fthree/fprime\n",
    "         w=λo-u*(1-C2*u)/(1-2*C2*u+C3*u^2)\n",
    "         \n",
    "         λ=w                              ##############\n",
    "         eps=abs((λ-λo)/λ)                ##############\n",
    "         Eps=eps                          ##############\n",
    "         ITNumb=ITNumb+1    \n",
    "            \n",
    "            \n",
    "  # #                                                ###\n",
    "  ######################################################\n",
    " \n",
    "            end                           ##############\n",
    "        end                               ##############\n",
    "  # #                                     ##############\n",
    "  \n",
    " λD=λ   \n",
    " ITNumbD=ITNumb\n",
    " res=[λD, ITNumbD]\n",
    " return(res)\n",
    " end"
   ]
  },
  {
   "cell_type": "code",
   "execution_count": 118,
   "metadata": {},
   "outputs": [
    {
     "data": {
      "text/plain": [
       "E4_1P4R (generic function with 1 method)"
      ]
     },
     "execution_count": 118,
     "metadata": {},
     "output_type": "execute_result"
    }
   ],
   "source": [
    "function E4_1P4R(Bo, B1, B2, B3, B4, λo, EPSD)# αd in degrees #####################  \n",
    "\n",
    "EPS=EPSD   \n",
    "ITNumb=0\n",
    "Jack=0\n",
    "\n",
    "    ####################################################\n",
    "    #                                                ###\n",
    "    # THE METHOD FIRST PART                          ###     \n",
    "         \n",
    "         λo=λo                                       \n",
    "         f=Bo+B1*λo+B2*λo^2+B3*λo^3+B4*λo^4          \n",
    "         fprime=B1+2*B2*λo+3*B3*λo^2+4*B4*λo^3\n",
    "         ftwo=2*B2+6*B3*λo+12*B4*λo^2\n",
    "         fthree=6*B3+24*B4*λo\n",
    "         u=f/fprime\n",
    "         C2=0.5*ftwo/fprime\n",
    "         C3=(1/6)*fthree/fprime\n",
    "         w=λo-u-C2*u^2-(2*C2^2-C3)*u^3    \n",
    "    #                                                ###\n",
    "    \n",
    "         λ=w                              ##############\n",
    "         eps=abs((λ-λo)/λ)                ##############\n",
    "         Eps=eps                          ##############\n",
    "         ITNumb=ITNumb+1 \n",
    "    ####################################################\n",
    "    \n",
    "  # THE LOOP OPENER       ##############################   \n",
    "  #                       ##############################\n",
    "        while eps>EPS     ##############################      \n",
    "        if ITNumb>1000    ##############################\n",
    "           eps=0          ##############################\n",
    "           Jack=Jack+1    ############################## \n",
    "       else               ##############################\n",
    "  ######################################################\n",
    "  # # THE METHOD FINAL PART                          ###     \n",
    "  # #                                                ###   \n",
    "         λo=λ                                       \n",
    "         f=Bo+B1*λo+B2*λo^2+B3*λo^3+B4*λo^4          \n",
    "         fprime=B1+2*B2*λo+3*B3*λo^2+4*B4*λo^3\n",
    "         ftwo=2*B2+6*B3*λo+12*B4*λo^2\n",
    "         fthree=6*B3+24*B4*λo\n",
    "         u=f/fprime\n",
    "         C2=0.5*ftwo/fprime\n",
    "         C3=(1/6)*fthree/fprime\n",
    "         w=λo-u-C2*u^2-(2*C2^2-C3)*u^3                                                                        \n",
    "  # #                                                ###\n",
    "         λ=w                              ##############\n",
    "         eps=abs((λ-λo)/λ)                ##############\n",
    "         Eps=eps                          ##############\n",
    "         ITNumb=ITNumb+1    \n",
    "  ######################################################\n",
    " \n",
    "            end                           ##############\n",
    "        end                               ##############\n",
    "  # #                                     ##############\n",
    "  ######################################################\n",
    "  # #                               ####################\n",
    " λD=λ   \n",
    " ITNumbD=ITNumb\n",
    " res=[λD, ITNumbD]\n",
    " return(res)\n",
    " end"
   ]
  },
  {
   "cell_type": "code",
   "execution_count": 119,
   "metadata": {},
   "outputs": [
    {
     "data": {
      "text/plain": [
       "E5_1P5R (generic function with 1 method)"
      ]
     },
     "execution_count": 119,
     "metadata": {},
     "output_type": "execute_result"
    }
   ],
   "source": [
    "function E5_1P5R(Bo, B1, B2, B3, B4, λo, EPSD)# αd in degrees #####################  \n",
    "\n",
    "EPS=EPSD   \n",
    "ITNumb=0\n",
    "Jack=0\n",
    "    \n",
    "    ####################################################\n",
    "    #                                                ###\n",
    "    # THE METHOD FIRST PART                          ###     \n",
    "         \n",
    "         λo=λo                                       \n",
    "         f=Bo+B1*λo+B2*λo^2+B3*λo^3+B4*λo^4          \n",
    "         fprime=B1+2*B2*λo+3*B3*λo^2+4*B4*λo^3\n",
    "         ftwo=2*B2+6*B3*λo+12*B4*λo^2\n",
    "         fthree=6*B3+24*B4*λo\n",
    "         ffour=24*B4\n",
    "         u=f/fprime\n",
    "         C2=0.5*ftwo/fprime\n",
    "         C3=(1/6)*fthree/fprime\n",
    "         C4=(1/24)*ffour/fprime    \n",
    "         w=λo-u-C2*u^2-(2*C2^2-C3)*u^3-(5*C2^3-5*C2*C3+C4)*u^4  \n",
    "         λ=w                              ##############\n",
    "         eps=abs((λ-λo)/λ)                ##############\n",
    "         Eps=eps                          ##############\n",
    "         ITNumb=ITNumb+1 \n",
    "    #                                                ###\n",
    "    ####################################################\n",
    "   \n",
    "  ######################################################\n",
    " \n",
    "  ######################################################\n",
    "  #                       ##############################\n",
    "  # THE LOOP OPENER       ##############################   \n",
    "  #                       ##############################\n",
    "        while eps>EPS     ##############################      \n",
    "        if ITNumb>1000    ##############################\n",
    "           eps=0          ##############################\n",
    "           Jack=Jack+1    ############################## \n",
    "       else               ##############################\n",
    "\n",
    "  ######################################################\n",
    "  # #                                                ###\n",
    "  # # THE METHOD FINAL PART                          ###     \n",
    "  # #                                                ###   \n",
    "         λo=λ                                       \n",
    "         f=Bo+B1*λo+B2*λo^2+B3*λo^3+B4*λo^4          \n",
    "         fprime=B1+2*B2*λo+3*B3*λo^2+4*B4*λo^3\n",
    "         ftwo=2*B2+6*B3*λo+12*B4*λo^2\n",
    "         fthree=6*B3+24*B4*λo\n",
    "         ffour=24*B4\n",
    "         u=f/fprime\n",
    "         C2=0.5*ftwo/fprime\n",
    "         C3=(1/6)*fthree/fprime\n",
    "         C4=(1/24)*ffour/fprime    \n",
    "         w=λo-u-C2*u^2-(2*C2^2-C3)*u^3-(5*C2^3-5*C2*C3+C4)*u^4 \n",
    "         λ=w                              ##############\n",
    "         eps=abs((λ-λo)/λ)                ##############\n",
    "         Eps=eps                          ##############\n",
    "         ITNumb=ITNumb+1    \n",
    "  # #                                                ###\n",
    "  ######################################################\n",
    "  # #                               ####################\n",
    " \n",
    "            end                           ##############\n",
    "        end                               ##############\n",
    "  # #                                     ##############\n",
    "  ######################################################\n",
    " \n",
    " λD=λ   \n",
    " ITNumbD=ITNumb\n",
    " res=[λD, ITNumbD]\n",
    " return(res)\n",
    " end"
   ]
  },
  {
   "cell_type": "code",
   "execution_count": null,
   "metadata": {},
   "outputs": [],
   "source": []
  },
  {
   "cell_type": "code",
   "execution_count": 120,
   "metadata": {},
   "outputs": [
    {
     "data": {
      "text/plain": [
       "\"KRAJ. DOle su pomocni algoritmi\""
      ]
     },
     "execution_count": 120,
     "metadata": {},
     "output_type": "execute_result"
    }
   ],
   "source": [
    "\"KRAJ. DOle su pomocni algoritmi\""
   ]
  },
  {
   "cell_type": "code",
   "execution_count": 121,
   "metadata": {},
   "outputs": [
    {
     "ename": "LoadError",
     "evalue": "syntax: extra token \"seconds\" after end of expression",
     "output_type": "error",
     "traceback": [
      "syntax: extra token \"seconds\" after end of expression",
      "",
      "Stacktrace:",
      " [1] top-level scope at In[121]:6",
      " [2] include_string(::Function, ::Module, ::String, ::String) at .\\loading.jl:1091"
     ]
    }
   ],
   "source": [
    "#21442340\n",
    "#D1=Halley_1P3R(Bo, B1, B2, B3, B4, λoD, EPSD)   \n",
    "\n",
    " #λh,\n",
    " #EPSD=5*10^-4,\n",
    " 39.732103 seconds (85.77 M allocations: 3.515 GiB, 0.93% gc time)\n",
    " 40.651832 seconds (85.77 M allocations: 3.515 GiB, 0.90% gc time)\n",
    " 40.419782 seconds (85.77 M allocations: 3.515 GiB, 0.92% gc time)\n",
    " #EPSD=5*10^-14,\n",
    " 40.655886 seconds (85.77 M allocations: 3.515 GiB, 0.91% gc time)\n",
    " 40.269798 seconds (85.77 M allocations: 3.515 GiB, 0.91% gc time)\n",
    " 40.518145 seconds (85.77 M allocations: 3.515 GiB, 0.91% gc time)\n",
    " #EPSD=5*10^-16,\n",
    " 41.091370 seconds (85.77 M allocations: 3.515 GiB, 0.92% gc time)\n",
    " 41.322707 seconds (85.77 M allocations: 3.515 GiB, 0.92% gc time)\n",
    " 40.770243 seconds (85.77 M allocations: 3.515 GiB, 0.93% gc time) \n",
    "\n",
    " #λwj,\n",
    " #EPSD=5*10^-4,\n",
    "  39.432479 seconds (85.77 M allocations: 3.515 GiB, 0.95% gc time)\n",
    "  39.197176 seconds (85.77 M allocations: 3.515 GiB, 0.93% gc time)\n",
    "  39.420686 seconds (85.77 M allocations: 3.515 GiB, 0.95% gc time)\n",
    " #EPSD=5*10^-14,\n",
    "  39.592403 seconds (85.77 M allocations: 3.515 GiB, 0.96% gc time)\n",
    "  40.047992 seconds (85.77 M allocations: 3.515 GiB, 0.92% gc time)\n",
    "  39.711826 seconds (85.77 M allocations: 3.515 GiB, 0.93% gc time)\n",
    " #EPSD=5*10^-16,\n",
    "  40.264663 seconds (85.77 M allocations: 3.515 GiB, 0.92% gc time)\n",
    "  39.911820 seconds (85.77 M allocations: 3.515 GiB, 0.93% gc time)\n",
    "  40.189363 seconds (85.77 M allocations: 3.515 GiB, 0.92% gc time)\n",
    "\n",
    "\n",
    " #λmd,\n",
    " #EPSD=5*10^-4,\n",
    " 38.701193 seconds (85.77 M allocations: 3.515 GiB, 0.96% gc time)\n",
    " 39.235402 seconds (85.77 M allocations: 3.515 GiB, 0.95% gc time)\n",
    " 38.702520 seconds (85.77 M allocations: 3.515 GiB, 0.96% gc time)\n",
    " #EPSD=5*10^-14,\n",
    " 39.866936 seconds (85.77 M allocations: 3.515 GiB, 0.96% gc time)\n",
    " 40.345553 seconds (85.77 M allocations: 3.515 GiB, 0.95% gc time)\n",
    " 39.492316 seconds (85.77 M allocations: 3.515 GiB, 0.94% gc time)\n",
    " #EPSD=5*10^-16,\n",
    " 39.652890 seconds (85.77 M allocations: 3.515 GiB, 0.95% gc time)\n",
    " 39.790307 seconds (85.77 M allocations: 3.515 GiB, 0.94% gc time)\n",
    " 39.877086 seconds (85.77 M allocations: 3.515 GiB, 0.93% gc time)\n"
   ]
  },
  {
   "cell_type": "code",
   "execution_count": 122,
   "metadata": {},
   "outputs": [
    {
     "ename": "LoadError",
     "evalue": "syntax: extra token \"seconds\" after end of expression",
     "output_type": "error",
     "traceback": [
      "syntax: extra token \"seconds\" after end of expression",
      "",
      "Stacktrace:",
      " [1] top-level scope at In[122]:6",
      " [2] include_string(::Function, ::Module, ::String, ::String) at .\\loading.jl:1091"
     ]
    }
   ],
   "source": [
    "#21442340\n",
    "#D2=Chebyshev_1P3R(Bo, B1, B2, B3, B4, λoD, EPSD)\n",
    "\n",
    " #λh,\n",
    " #EPSD=5*10^-4,\n",
    " 39.787681 seconds (85.77 M allocations: 3.515 GiB, 0.97% gc time)\n",
    " #EPSD=5*10^-14,\n",
    " 40.004003 seconds (85.77 M allocations: 3.515 GiB, 0.93% gc time)\n",
    " #EPSD=5*10^-16,\n",
    " 40.601471 seconds (85.77 M allocations: 3.515 GiB, 0.95% gc time)\n",
    "\n",
    "\n",
    " #λwj,\n",
    " #EPSD=5*10^-4,\n",
    "  39.290041 seconds (85.77 M allocations: 3.515 GiB, 0.98% gc time)\n",
    " #EPSD=5*10^-14,\n",
    " 39.388638 seconds (85.77 M allocations: 3.515 GiB, 0.95% gc time) \n",
    " #EPSD=5*10^-16,\n",
    " 40.384745 seconds (85.77 M allocations: 3.515 GiB, 0.95% gc time)\n",
    "\n",
    "\n",
    " #λmd,\n",
    " #EPSD=5*10^-4,\n",
    " 38.927020 seconds (85.77 M allocations: 3.515 GiB, 0.98% gc time)\n",
    " #EPSD=5*10^-14,\n",
    " 40.153255 seconds (85.77 M allocations: 3.515 GiB, 0.97% gc time)\n",
    " #EPSD=5*10^-16,\n",
    " 39.323418 seconds (85.77 M allocations: 3.515 GiB, 0.98% gc time)\n"
   ]
  },
  {
   "cell_type": "code",
   "execution_count": 123,
   "metadata": {},
   "outputs": [
    {
     "ename": "LoadError",
     "evalue": "syntax: extra token \"seconds\" after end of expression",
     "output_type": "error",
     "traceback": [
      "syntax: extra token \"seconds\" after end of expression",
      "",
      "Stacktrace:",
      " [1] top-level scope at In[123]:6",
      " [2] include_string(::Function, ::Module, ::String, ::String) at .\\loading.jl:1091"
     ]
    }
   ],
   "source": [
    "#21442340\n",
    "#D3=Kiss_1P4R(Bo, B1, B2, B3, B4, λoD, EPSD) \n",
    "\n",
    " #λh,\n",
    " #EPSD=5*10^-4,\n",
    " 39.753292 seconds (85.77 M allocations: 3.515 GiB, 0.98% gc time)\n",
    " #EPSD=5*10^-14,\n",
    " 40.147708 seconds (85.77 M allocations: 3.515 GiB, 0.94% gc time)\n",
    " #EPSD=5*10^-16,\n",
    " 40.194904 seconds (85.77 M allocations: 3.515 GiB, 0.95% gc time)\n",
    "\n",
    "\n",
    " #λwj,\n",
    " #EPSD=5*10^-4,\n",
    " 38.864193 seconds (85.77 M allocations: 3.515 GiB, 0.97% gc time)\n",
    " #EPSD=5*10^-14,\n",
    " 40.086685 seconds (85.77 M allocations: 3.515 GiB, 0.95% gc time)\n",
    " #EPSD=5*10^-16,\n",
    "  39.850260 seconds (85.77 M allocations: 3.515 GiB, 0.96% gc time)\n",
    "\n",
    "\n",
    " #λmd,\n",
    " #EPSD=5*10^-4,\n",
    " 39.744544 seconds (85.77 M allocations: 3.515 GiB, 0.98% gc time)\n",
    " #EPSD=5*10^-14,\n",
    " 39.794306 seconds (85.77 M allocations: 3.515 GiB, 0.98% gc time)\n",
    " #EPSD=5*10^-16,\n",
    " 40.026830 seconds (85.77 M allocations: 3.515 GiB, 0.97% gc time)\n"
   ]
  },
  {
   "cell_type": "code",
   "execution_count": 149,
   "metadata": {},
   "outputs": [
    {
     "ename": "LoadError",
     "evalue": "syntax: extra token \"seconds\" after end of expression",
     "output_type": "error",
     "traceback": [
      "syntax: extra token \"seconds\" after end of expression",
      "",
      "Stacktrace:",
      " [1] top-level scope at In[149]:6",
      " [2] include_string(::Function, ::Module, ::String, ::String) at .\\loading.jl:1091"
     ]
    }
   ],
   "source": [
    "#21442340\n",
    "#D4=E5_1P5R(Bo, B1, B2, B3, B4, λoD, EPSD) \n",
    "\n",
    " #λh,\n",
    " #EPSD=5*10^-4,\n",
    " 40.421538 seconds (85.77 M allocations: 3.515 GiB, 0.96% gc time)\n",
    " #EPSD=5*10^-14,\n",
    " 40.489100 seconds (85.77 M allocations: 3.515 GiB, 0.96% gc time)\n",
    " #EPSD=5*10^-16,\n",
    " 40.516409 seconds (85.77 M allocations: 3.515 GiB, 0.95% gc time)\n",
    "\n",
    " #λwj,\n",
    " #EPSD=5*10^-4,\n",
    "  39.982597 seconds (85.77 M allocations: 3.515 GiB, 0.98% gc time)\n",
    " #EPSD=5*10^-14,\n",
    " 40.611620 seconds (85.77 M allocations: 3.515 GiB, 0.98% gc time)\n",
    " #EPSD=5*10^-16,\n",
    "  39.928488 seconds (85.77 M allocations: 3.515 GiB, 0.96% gc time)\n",
    "\n",
    " #λmd,\n",
    " #EPSD=5*10^-4,\n",
    "  39.323365 seconds (85.77 M allocations: 3.515 GiB, 1.00% gc time)\n",
    " #EPSD=5*10^-14,\n",
    "  39.645964 seconds (85.77 M allocations: 3.515 GiB, 0.99% gc time)\n",
    " #EPSD=5*10^-16,\n",
    "  40.075495 seconds (85.77 M allocations: 3.515 GiB, 0.98% gc time)\n",
    "\n",
    "\n"
   ]
  },
  {
   "cell_type": "code",
   "execution_count": null,
   "metadata": {},
   "outputs": [],
   "source": []
  },
  {
   "cell_type": "code",
   "execution_count": null,
   "metadata": {},
   "outputs": [],
   "source": []
  },
  {
   "cell_type": "code",
   "execution_count": null,
   "metadata": {},
   "outputs": [],
   "source": []
  },
  {
   "cell_type": "code",
   "execution_count": null,
   "metadata": {},
   "outputs": [],
   "source": []
  }
 ],
 "metadata": {
  "kernelspec": {
   "display_name": "Julia 1.5.3",
   "language": "julia",
   "name": "julia-1.5"
  },
  "language_info": {
   "file_extension": ".jl",
   "mimetype": "application/julia",
   "name": "julia",
   "version": "1.5.3"
  }
 },
 "nbformat": 4,
 "nbformat_minor": 2
}
